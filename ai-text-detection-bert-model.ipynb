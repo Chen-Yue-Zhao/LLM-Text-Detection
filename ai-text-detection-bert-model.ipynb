{
 "cells": [
  {
   "cell_type": "code",
   "execution_count": 29,
   "id": "1fa0edfc",
   "metadata": {
    "execution": {
     "iopub.execute_input": "2023-12-19T22:07:45.289436Z",
     "iopub.status.busy": "2023-12-19T22:07:45.289021Z",
     "iopub.status.idle": "2023-12-19T22:08:07.213521Z",
     "shell.execute_reply": "2023-12-19T22:08:07.212645Z"
    },
    "papermill": {
     "duration": 21.945494,
     "end_time": "2023-12-19T22:08:07.216090",
     "exception": false,
     "start_time": "2023-12-19T22:07:45.270596",
     "status": "completed"
    },
    "tags": []
   },
   "outputs": [],
   "source": [
    "# Import Libraries\n",
    "import pandas as pd\n",
    "import numpy as np\n",
    "import seaborn as sns\n",
    "from sklearn.model_selection import train_test_split\n",
    "import tensorflow as tf\n",
    "from tensorflow import keras\n",
    "import tensorflow_text as text  # Registers the ops.\n",
    "import tensorflow_hub as hub\n",
    "import matplotlib.pyplot as plt"
   ]
  },
  {
   "cell_type": "markdown",
   "id": "7f245c91",
   "metadata": {
    "papermill": {
     "duration": 0.016644,
     "end_time": "2023-12-19T22:08:07.250249",
     "exception": false,
     "start_time": "2023-12-19T22:08:07.233605",
     "status": "completed"
    },
    "tags": []
   },
   "source": [
    "# Dataset Loading"
   ]
  },
  {
   "cell_type": "markdown",
   "id": "231878f2",
   "metadata": {
    "papermill": {
     "duration": 0.016311,
     "end_time": "2023-12-19T22:08:07.283889",
     "exception": false,
     "start_time": "2023-12-19T22:08:07.267578",
     "status": "completed"
    },
    "tags": []
   },
   "source": [
    "#### Loading the datasets from the direct path is important orelse it threw me an error if I downloaded the kaggle datasets and then used them here."
   ]
  },
  {
   "cell_type": "code",
   "execution_count": null,
   "id": "af9b8378",
   "metadata": {
    "execution": {
     "iopub.execute_input": "2023-12-19T22:08:07.322608Z",
     "iopub.status.busy": "2023-12-19T22:08:07.321933Z",
     "iopub.status.idle": "2023-12-19T22:08:07.443053Z",
     "shell.execute_reply": "2023-12-19T22:08:07.442153Z"
    },
    "papermill": {
     "duration": 0.1439,
     "end_time": "2023-12-19T22:08:07.445512",
     "exception": false,
     "start_time": "2023-12-19T22:08:07.301612",
     "status": "completed"
    },
    "tags": []
   },
   "outputs": [],
   "source": [
    "train_essay = pd.read_csv(\"./input/llm-detect-ai-generated-text/train_essays.csv\")\n",
    "train_essay"
   ]
  },
  {
   "cell_type": "code",
   "execution_count": null,
   "id": "17cd3790",
   "metadata": {
    "execution": {
     "iopub.execute_input": "2023-12-19T22:08:07.487243Z",
     "iopub.status.busy": "2023-12-19T22:08:07.486862Z",
     "iopub.status.idle": "2023-12-19T22:08:07.502051Z",
     "shell.execute_reply": "2023-12-19T22:08:07.501084Z"
    },
    "papermill": {
     "duration": 0.037609,
     "end_time": "2023-12-19T22:08:07.504286",
     "exception": false,
     "start_time": "2023-12-19T22:08:07.466677",
     "status": "completed"
    },
    "tags": []
   },
   "outputs": [],
   "source": [
    "test_essay = pd.read_csv(\"./input/llm-detect-ai-generated-text/test_essays.csv\")\n",
    "test_essay"
   ]
  },
  {
   "cell_type": "code",
   "execution_count": null,
   "id": "4c4b7186",
   "metadata": {
    "execution": {
     "iopub.execute_input": "2023-12-19T22:08:07.541881Z",
     "iopub.status.busy": "2023-12-19T22:08:07.541060Z",
     "iopub.status.idle": "2023-12-19T22:08:07.553593Z",
     "shell.execute_reply": "2023-12-19T22:08:07.552617Z"
    },
    "papermill": {
     "duration": 0.034202,
     "end_time": "2023-12-19T22:08:07.556085",
     "exception": false,
     "start_time": "2023-12-19T22:08:07.521883",
     "status": "completed"
    },
    "tags": []
   },
   "outputs": [],
   "source": [
    "sample_sub = pd.read_csv(\"./input/llm-detect-ai-generated-text/test_essays.csv\")\n",
    "sample_sub"
   ]
  },
  {
   "cell_type": "markdown",
   "id": "2fbc92fe",
   "metadata": {
    "papermill": {
     "duration": 0.017239,
     "end_time": "2023-12-19T22:08:07.593540",
     "exception": false,
     "start_time": "2023-12-19T22:08:07.576301",
     "status": "completed"
    },
    "tags": []
   },
   "source": [
    "# Data Analysis and Visualization"
   ]
  },
  {
   "cell_type": "code",
   "execution_count": null,
   "id": "362ff2a8",
   "metadata": {
    "execution": {
     "iopub.execute_input": "2023-12-19T22:08:07.631007Z",
     "iopub.status.busy": "2023-12-19T22:08:07.630110Z",
     "iopub.status.idle": "2023-12-19T22:08:07.665341Z",
     "shell.execute_reply": "2023-12-19T22:08:07.663935Z"
    },
    "papermill": {
     "duration": 0.056669,
     "end_time": "2023-12-19T22:08:07.667764",
     "exception": false,
     "start_time": "2023-12-19T22:08:07.611095",
     "status": "completed"
    },
    "tags": []
   },
   "outputs": [],
   "source": [
    "train_essay.info()"
   ]
  },
  {
   "cell_type": "code",
   "execution_count": null,
   "id": "5bcf9560",
   "metadata": {
    "execution": {
     "iopub.execute_input": "2023-12-19T22:08:07.708318Z",
     "iopub.status.busy": "2023-12-19T22:08:07.707578Z",
     "iopub.status.idle": "2023-12-19T22:08:07.717438Z",
     "shell.execute_reply": "2023-12-19T22:08:07.716538Z"
    },
    "papermill": {
     "duration": 0.031756,
     "end_time": "2023-12-19T22:08:07.719598",
     "exception": false,
     "start_time": "2023-12-19T22:08:07.687842",
     "status": "completed"
    },
    "tags": []
   },
   "outputs": [],
   "source": [
    "train_essay['prompt_id'].value_counts()"
   ]
  },
  {
   "cell_type": "code",
   "execution_count": null,
   "id": "2f6ea03c",
   "metadata": {
    "execution": {
     "iopub.execute_input": "2023-12-19T22:08:07.758485Z",
     "iopub.status.busy": "2023-12-19T22:08:07.758007Z",
     "iopub.status.idle": "2023-12-19T22:08:08.017639Z",
     "shell.execute_reply": "2023-12-19T22:08:08.016667Z"
    },
    "papermill": {
     "duration": 0.28163,
     "end_time": "2023-12-19T22:08:08.019864",
     "exception": false,
     "start_time": "2023-12-19T22:08:07.738234",
     "status": "completed"
    },
    "tags": []
   },
   "outputs": [],
   "source": [
    "sns.countplot(x=train_essay['prompt_id'])\n",
    "plt.show()"
   ]
  },
  {
   "cell_type": "code",
   "execution_count": null,
   "id": "83edcbda",
   "metadata": {
    "execution": {
     "iopub.execute_input": "2023-12-19T22:08:08.107567Z",
     "iopub.status.busy": "2023-12-19T22:08:08.107142Z",
     "iopub.status.idle": "2023-12-19T22:08:08.289370Z",
     "shell.execute_reply": "2023-12-19T22:08:08.287993Z"
    },
    "papermill": {
     "duration": 0.206644,
     "end_time": "2023-12-19T22:08:08.293219",
     "exception": false,
     "start_time": "2023-12-19T22:08:08.086575",
     "status": "completed"
    },
    "tags": []
   },
   "outputs": [],
   "source": [
    "train_essay['prompt_id'].value_counts().plot(kind=\"pie\",autopct=\"%.1f%%\")\n",
    "plt.title(\"Prompt ID\")\n",
    "plt.show()"
   ]
  },
  {
   "cell_type": "code",
   "execution_count": null,
   "id": "42cd05c1",
   "metadata": {
    "execution": {
     "iopub.execute_input": "2023-12-19T22:08:08.372253Z",
     "iopub.status.busy": "2023-12-19T22:08:08.371879Z",
     "iopub.status.idle": "2023-12-19T22:08:08.513672Z",
     "shell.execute_reply": "2023-12-19T22:08:08.512440Z"
    },
    "papermill": {
     "duration": 0.17993,
     "end_time": "2023-12-19T22:08:08.516178",
     "exception": false,
     "start_time": "2023-12-19T22:08:08.336248",
     "status": "completed"
    },
    "tags": []
   },
   "outputs": [],
   "source": [
    "train_essay['generated'].value_counts().plot(kind=\"pie\",autopct=\"%.1f%%\") # to see what to take as base\n",
    "plt.title(\"Target label\")\n",
    "plt.show()"
   ]
  },
  {
   "cell_type": "markdown",
   "id": "d77da9fe",
   "metadata": {
    "papermill": {
     "duration": 0.019265,
     "end_time": "2023-12-19T22:08:08.554920",
     "exception": false,
     "start_time": "2023-12-19T22:08:08.535655",
     "status": "completed"
    },
    "tags": []
   },
   "source": [
    "#### We observe that wrt 'generated' the data is highly imbalanced so we would be using 'prompt_id'"
   ]
  },
  {
   "cell_type": "code",
   "execution_count": null,
   "id": "58ed4abd",
   "metadata": {
    "execution": {
     "iopub.execute_input": "2023-12-19T22:08:08.596115Z",
     "iopub.status.busy": "2023-12-19T22:08:08.594829Z",
     "iopub.status.idle": "2023-12-19T22:08:08.606152Z",
     "shell.execute_reply": "2023-12-19T22:08:08.605150Z"
    },
    "papermill": {
     "duration": 0.034272,
     "end_time": "2023-12-19T22:08:08.608600",
     "exception": false,
     "start_time": "2023-12-19T22:08:08.574328",
     "status": "completed"
    },
    "tags": []
   },
   "outputs": [],
   "source": [
    "train_essay.head()"
   ]
  },
  {
   "cell_type": "code",
   "execution_count": null,
   "id": "a0fc1571",
   "metadata": {
    "execution": {
     "iopub.execute_input": "2023-12-19T22:08:08.649797Z",
     "iopub.status.busy": "2023-12-19T22:08:08.649426Z",
     "iopub.status.idle": "2023-12-19T22:08:08.660111Z",
     "shell.execute_reply": "2023-12-19T22:08:08.659247Z"
    },
    "papermill": {
     "duration": 0.032771,
     "end_time": "2023-12-19T22:08:08.662268",
     "exception": false,
     "start_time": "2023-12-19T22:08:08.629497",
     "status": "completed"
    },
    "tags": []
   },
   "outputs": [],
   "source": [
    "ai_df = train_essay[train_essay['generated']==1]\n",
    "ai_df"
   ]
  },
  {
   "cell_type": "code",
   "execution_count": null,
   "id": "6d991fd6",
   "metadata": {
    "execution": {
     "iopub.execute_input": "2023-12-19T22:08:08.702640Z",
     "iopub.status.busy": "2023-12-19T22:08:08.702263Z",
     "iopub.status.idle": "2023-12-19T22:08:08.716819Z",
     "shell.execute_reply": "2023-12-19T22:08:08.715788Z"
    },
    "papermill": {
     "duration": 0.037615,
     "end_time": "2023-12-19T22:08:08.719012",
     "exception": false,
     "start_time": "2023-12-19T22:08:08.681397",
     "status": "completed"
    },
    "tags": []
   },
   "outputs": [],
   "source": [
    "train_essay"
   ]
  },
  {
   "cell_type": "markdown",
   "id": "d78b01af",
   "metadata": {
    "papermill": {
     "duration": 0.020238,
     "end_time": "2023-12-19T22:08:08.761423",
     "exception": false,
     "start_time": "2023-12-19T22:08:08.741185",
     "status": "completed"
    },
    "tags": []
   },
   "source": [
    "# Data Pre-processing"
   ]
  },
  {
   "cell_type": "markdown",
   "id": "e960695d",
   "metadata": {
    "papermill": {
     "duration": 0.019941,
     "end_time": "2023-12-19T22:08:08.801741",
     "exception": false,
     "start_time": "2023-12-19T22:08:08.781800",
     "status": "completed"
    },
    "tags": []
   },
   "source": [
    "### we would be using the stopwords_text and then we would be splitting them and all these words would be removed from the essays we had earlier"
   ]
  },
  {
   "cell_type": "code",
   "execution_count": 41,
   "id": "c2d10412",
   "metadata": {
    "execution": {
     "iopub.execute_input": "2023-12-19T22:08:08.842456Z",
     "iopub.status.busy": "2023-12-19T22:08:08.842090Z",
     "iopub.status.idle": "2023-12-19T22:08:08.847635Z",
     "shell.execute_reply": "2023-12-19T22:08:08.846790Z"
    },
    "papermill": {
     "duration": 0.028097,
     "end_time": "2023-12-19T22:08:08.849722",
     "exception": false,
     "start_time": "2023-12-19T22:08:08.821625",
     "status": "completed"
    },
    "tags": []
   },
   "outputs": [],
   "source": [
    "stopwords_text = \"\"\"\"i me my myself we our ours ourselves you you're you've you'll you'd your yours yourself yourselves he him his himself she she's her hers herself it it's its itself they them their theirs themselves what which who whom this that that'll these those am is are was were be been being have has had having do does did doing a an the and but if or because as until while of at by for with about against between into through during before after above below to from up down in out on off over under again further then once here there when where why how all any both each few more most other some such only own same so than too very s t can will just don don't should should've now d ll m o re ve y ain aren aren't couldn couldn't didn didn't doesn doesn't hadn hadn't hasn hasn't haven haven't isn isn't ma mightn mightn't mustn mustn't needn needn't shan shan't shouldn shouldn't wasn wasn't weren weren't won won't wouldn wouldn't\"\n",
    "\"\"\"\n",
    "stopwords_list = stopwords_text.split()"
   ]
  },
  {
   "cell_type": "code",
   "execution_count": null,
   "id": "dd9bbcdc",
   "metadata": {
    "execution": {
     "iopub.execute_input": "2023-12-19T22:08:08.890924Z",
     "iopub.status.busy": "2023-12-19T22:08:08.890579Z",
     "iopub.status.idle": "2023-12-19T22:08:08.896730Z",
     "shell.execute_reply": "2023-12-19T22:08:08.895742Z"
    },
    "papermill": {
     "duration": 0.028926,
     "end_time": "2023-12-19T22:08:08.898851",
     "exception": false,
     "start_time": "2023-12-19T22:08:08.869925",
     "status": "completed"
    },
    "tags": []
   },
   "outputs": [],
   "source": [
    "len(stopwords_list)"
   ]
  },
  {
   "cell_type": "markdown",
   "id": "9bfa2025",
   "metadata": {
    "papermill": {
     "duration": 0.02049,
     "end_time": "2023-12-19T22:08:08.940129",
     "exception": false,
     "start_time": "2023-12-19T22:08:08.919639",
     "status": "completed"
    },
    "tags": []
   },
   "source": [
    "# Using custom datasets to feed in more data"
   ]
  },
  {
   "cell_type": "markdown",
   "id": "57cf37eb",
   "metadata": {
    "papermill": {
     "duration": 0.020723,
     "end_time": "2023-12-19T22:08:08.987046",
     "exception": false,
     "start_time": "2023-12-19T22:08:08.966323",
     "status": "completed"
    },
    "tags": []
   },
   "source": [
    "#### this was done to make the model train better with wide variety of data"
   ]
  },
  {
   "cell_type": "code",
   "execution_count": 43,
   "id": "b8f6e733",
   "metadata": {
    "execution": {
     "iopub.execute_input": "2023-12-19T22:08:09.029668Z",
     "iopub.status.busy": "2023-12-19T22:08:09.029288Z",
     "iopub.status.idle": "2023-12-19T22:08:10.429367Z",
     "shell.execute_reply": "2023-12-19T22:08:10.428371Z"
    },
    "papermill": {
     "duration": 1.424386,
     "end_time": "2023-12-19T22:08:10.431904",
     "exception": false,
     "start_time": "2023-12-19T22:08:09.007518",
     "status": "completed"
    },
    "tags": []
   },
   "outputs": [],
   "source": [
    "df = pd.read_csv(\"./input/dataset-4/Training_Essay_Data.csv\")"
   ]
  },
  {
   "cell_type": "code",
   "execution_count": null,
   "id": "d84e07c9",
   "metadata": {
    "execution": {
     "iopub.execute_input": "2023-12-19T22:08:10.476615Z",
     "iopub.status.busy": "2023-12-19T22:08:10.475792Z",
     "iopub.status.idle": "2023-12-19T22:08:10.487472Z",
     "shell.execute_reply": "2023-12-19T22:08:10.486508Z"
    },
    "papermill": {
     "duration": 0.036638,
     "end_time": "2023-12-19T22:08:10.489686",
     "exception": false,
     "start_time": "2023-12-19T22:08:10.453048",
     "status": "completed"
    },
    "tags": []
   },
   "outputs": [],
   "source": [
    "df"
   ]
  },
  {
   "cell_type": "code",
   "execution_count": null,
   "id": "47eb2b8e",
   "metadata": {
    "execution": {
     "iopub.execute_input": "2023-12-19T22:08:10.534516Z",
     "iopub.status.busy": "2023-12-19T22:08:10.533781Z",
     "iopub.status.idle": "2023-12-19T22:08:12.894226Z",
     "shell.execute_reply": "2023-12-19T22:08:12.893281Z"
    },
    "papermill": {
     "duration": 2.384571,
     "end_time": "2023-12-19T22:08:12.896792",
     "exception": false,
     "start_time": "2023-12-19T22:08:10.512221",
     "status": "completed"
    },
    "tags": []
   },
   "outputs": [],
   "source": [
    "df2 = pd.read_csv(\"./input/dataset-2/train_drcat_04.csv\")\n",
    "df2 = df2[['text','label']]\n",
    "df2.columns = ['text','generated']\n",
    "df2"
   ]
  },
  {
   "cell_type": "code",
   "execution_count": 46,
   "id": "6a0f699c",
   "metadata": {
    "execution": {
     "iopub.execute_input": "2023-12-19T22:08:12.944614Z",
     "iopub.status.busy": "2023-12-19T22:08:12.944241Z",
     "iopub.status.idle": "2023-12-19T22:08:12.948666Z",
     "shell.execute_reply": "2023-12-19T22:08:12.947709Z"
    },
    "papermill": {
     "duration": 0.029323,
     "end_time": "2023-12-19T22:08:12.950703",
     "exception": false,
     "start_time": "2023-12-19T22:08:12.921380",
     "status": "completed"
    },
    "tags": []
   },
   "outputs": [],
   "source": [
    "#df2.drop_duplicates(inplace=True,ignore_index=True)"
   ]
  },
  {
   "cell_type": "code",
   "execution_count": 47,
   "id": "dc83b0d4",
   "metadata": {
    "execution": {
     "iopub.execute_input": "2023-12-19T22:08:12.996118Z",
     "iopub.status.busy": "2023-12-19T22:08:12.995749Z",
     "iopub.status.idle": "2023-12-19T22:08:12.999888Z",
     "shell.execute_reply": "2023-12-19T22:08:12.998973Z"
    },
    "papermill": {
     "duration": 0.028081,
     "end_time": "2023-12-19T22:08:13.001888",
     "exception": false,
     "start_time": "2023-12-19T22:08:12.973807",
     "status": "completed"
    },
    "tags": []
   },
   "outputs": [],
   "source": [
    "#df2"
   ]
  },
  {
   "cell_type": "code",
   "execution_count": null,
   "id": "adb52349",
   "metadata": {
    "execution": {
     "iopub.execute_input": "2023-12-19T22:08:13.046187Z",
     "iopub.status.busy": "2023-12-19T22:08:13.045816Z",
     "iopub.status.idle": "2023-12-19T22:08:13.864530Z",
     "shell.execute_reply": "2023-12-19T22:08:13.863524Z"
    },
    "papermill": {
     "duration": 0.84371,
     "end_time": "2023-12-19T22:08:13.866979",
     "exception": false,
     "start_time": "2023-12-19T22:08:13.023269",
     "status": "completed"
    },
    "tags": []
   },
   "outputs": [],
   "source": [
    "df3 = pd.read_csv(\"./input/dataset-2/train_essays_RDizzl3_seven_v1.csv\")\n",
    "df3.columns = ['text','generated']\n",
    "df3"
   ]
  },
  {
   "cell_type": "code",
   "execution_count": null,
   "id": "0ae2d866",
   "metadata": {
    "execution": {
     "iopub.execute_input": "2023-12-19T22:08:13.911249Z",
     "iopub.status.busy": "2023-12-19T22:08:13.910889Z",
     "iopub.status.idle": "2023-12-19T22:08:13.927034Z",
     "shell.execute_reply": "2023-12-19T22:08:13.925332Z"
    },
    "papermill": {
     "duration": 0.040865,
     "end_time": "2023-12-19T22:08:13.930003",
     "exception": false,
     "start_time": "2023-12-19T22:08:13.889138",
     "status": "completed"
    },
    "tags": []
   },
   "outputs": [],
   "source": [
    "train_data = pd.concat([df3,df2,df],axis=0,ignore_index=True)\n",
    "train_data"
   ]
  },
  {
   "cell_type": "code",
   "execution_count": 50,
   "id": "3faf02e6",
   "metadata": {
    "execution": {
     "iopub.execute_input": "2023-12-19T22:08:13.987240Z",
     "iopub.status.busy": "2023-12-19T22:08:13.986852Z",
     "iopub.status.idle": "2023-12-19T22:08:14.512868Z",
     "shell.execute_reply": "2023-12-19T22:08:14.512030Z"
    },
    "papermill": {
     "duration": 0.55889,
     "end_time": "2023-12-19T22:08:14.515551",
     "exception": false,
     "start_time": "2023-12-19T22:08:13.956661",
     "status": "completed"
    },
    "tags": []
   },
   "outputs": [],
   "source": [
    "train_data.drop_duplicates(inplace=True,ignore_index=True)"
   ]
  },
  {
   "cell_type": "code",
   "execution_count": null,
   "id": "806eb732",
   "metadata": {
    "execution": {
     "iopub.execute_input": "2023-12-19T22:08:14.561745Z",
     "iopub.status.busy": "2023-12-19T22:08:14.561370Z",
     "iopub.status.idle": "2023-12-19T22:08:14.575558Z",
     "shell.execute_reply": "2023-12-19T22:08:14.574471Z"
    },
    "papermill": {
     "duration": 0.039696,
     "end_time": "2023-12-19T22:08:14.578022",
     "exception": false,
     "start_time": "2023-12-19T22:08:14.538326",
     "status": "completed"
    },
    "tags": []
   },
   "outputs": [],
   "source": [
    "train_data"
   ]
  },
  {
   "cell_type": "code",
   "execution_count": null,
   "id": "27a06557",
   "metadata": {
    "execution": {
     "iopub.execute_input": "2023-12-19T22:08:14.627262Z",
     "iopub.status.busy": "2023-12-19T22:08:14.626192Z",
     "iopub.status.idle": "2023-12-19T22:08:14.703108Z",
     "shell.execute_reply": "2023-12-19T22:08:14.702152Z"
    },
    "papermill": {
     "duration": 0.103274,
     "end_time": "2023-12-19T22:08:14.705437",
     "exception": false,
     "start_time": "2023-12-19T22:08:14.602163",
     "status": "completed"
    },
    "tags": []
   },
   "outputs": [],
   "source": [
    "# Dataset\n",
    "d1 = pd.read_csv(\"./input/dataset-3/falcon_180b_v1.csv\")\n",
    "d1"
   ]
  },
  {
   "cell_type": "code",
   "execution_count": null,
   "id": "3a3e5157",
   "metadata": {
    "execution": {
     "iopub.execute_input": "2023-12-19T22:08:14.753079Z",
     "iopub.status.busy": "2023-12-19T22:08:14.752307Z",
     "iopub.status.idle": "2023-12-19T22:08:14.853430Z",
     "shell.execute_reply": "2023-12-19T22:08:14.852453Z"
    },
    "papermill": {
     "duration": 0.126744,
     "end_time": "2023-12-19T22:08:14.856138",
     "exception": false,
     "start_time": "2023-12-19T22:08:14.729394",
     "status": "completed"
    },
    "tags": []
   },
   "outputs": [],
   "source": [
    "# Dataset\n",
    "d2 = pd.read_csv(\"./input/dataset-3/llama_70b_v1.csv\")\n",
    "d2"
   ]
  },
  {
   "cell_type": "code",
   "execution_count": null,
   "id": "360c182c",
   "metadata": {
    "execution": {
     "iopub.execute_input": "2023-12-19T22:08:14.903058Z",
     "iopub.status.busy": "2023-12-19T22:08:14.902707Z",
     "iopub.status.idle": "2023-12-19T22:08:14.917558Z",
     "shell.execute_reply": "2023-12-19T22:08:14.916626Z"
    },
    "papermill": {
     "duration": 0.039491,
     "end_time": "2023-12-19T22:08:14.919431",
     "exception": false,
     "start_time": "2023-12-19T22:08:14.879940",
     "status": "completed"
    },
    "tags": []
   },
   "outputs": [],
   "source": [
    "data = pd.concat([d1,d2],axis=0,ignore_index=True)\n",
    "data['generated'] = 1\n",
    "data.columns = ['text','writing_prompt','generated']\n",
    "data = data[['text','generated']]\n",
    "data"
   ]
  },
  {
   "cell_type": "code",
   "execution_count": null,
   "id": "25fa6d1e",
   "metadata": {
    "execution": {
     "iopub.execute_input": "2023-12-19T22:08:14.966003Z",
     "iopub.status.busy": "2023-12-19T22:08:14.965628Z",
     "iopub.status.idle": "2023-12-19T22:08:14.980444Z",
     "shell.execute_reply": "2023-12-19T22:08:14.979536Z"
    },
    "papermill": {
     "duration": 0.04053,
     "end_time": "2023-12-19T22:08:14.982659",
     "exception": false,
     "start_time": "2023-12-19T22:08:14.942129",
     "status": "completed"
    },
    "tags": []
   },
   "outputs": [],
   "source": [
    "Train_Data = pd.concat([train_data,data],axis=0,ignore_index=True)\n",
    "Train_Data"
   ]
  },
  {
   "cell_type": "code",
   "execution_count": null,
   "id": "84047433",
   "metadata": {
    "execution": {
     "iopub.execute_input": "2023-12-19T22:08:15.029590Z",
     "iopub.status.busy": "2023-12-19T22:08:15.029192Z",
     "iopub.status.idle": "2023-12-19T22:08:15.118158Z",
     "shell.execute_reply": "2023-12-19T22:08:15.117096Z"
    },
    "papermill": {
     "duration": 0.114245,
     "end_time": "2023-12-19T22:08:15.120316",
     "exception": false,
     "start_time": "2023-12-19T22:08:15.006071",
     "status": "completed"
    },
    "tags": []
   },
   "outputs": [],
   "source": [
    "d = pd.read_csv(\"./input/dataset-3/LLM_generated_essay_PaLM.csv\")\n",
    "d"
   ]
  },
  {
   "cell_type": "code",
   "execution_count": 57,
   "id": "1583d361",
   "metadata": {
    "execution": {
     "iopub.execute_input": "2023-12-19T22:08:15.166534Z",
     "iopub.status.busy": "2023-12-19T22:08:15.166105Z",
     "iopub.status.idle": "2023-12-19T22:08:15.171115Z",
     "shell.execute_reply": "2023-12-19T22:08:15.170258Z"
    },
    "papermill": {
     "duration": 0.030432,
     "end_time": "2023-12-19T22:08:15.173272",
     "exception": false,
     "start_time": "2023-12-19T22:08:15.142840",
     "status": "completed"
    },
    "tags": []
   },
   "outputs": [],
   "source": [
    "d['generated'] = d['generated'].astype(int)"
   ]
  },
  {
   "cell_type": "code",
   "execution_count": null,
   "id": "3f89584b",
   "metadata": {
    "execution": {
     "iopub.execute_input": "2023-12-19T22:08:15.220143Z",
     "iopub.status.busy": "2023-12-19T22:08:15.219875Z",
     "iopub.status.idle": "2023-12-19T22:08:15.232044Z",
     "shell.execute_reply": "2023-12-19T22:08:15.231176Z"
    },
    "papermill": {
     "duration": 0.036654,
     "end_time": "2023-12-19T22:08:15.233983",
     "exception": false,
     "start_time": "2023-12-19T22:08:15.197329",
     "status": "completed"
    },
    "tags": []
   },
   "outputs": [],
   "source": [
    "dd = d[['text','generated']]\n",
    "dd"
   ]
  },
  {
   "cell_type": "code",
   "execution_count": null,
   "id": "3d71d5f0",
   "metadata": {
    "execution": {
     "iopub.execute_input": "2023-12-19T22:08:15.282199Z",
     "iopub.status.busy": "2023-12-19T22:08:15.281553Z",
     "iopub.status.idle": "2023-12-19T22:08:15.294626Z",
     "shell.execute_reply": "2023-12-19T22:08:15.293704Z"
    },
    "papermill": {
     "duration": 0.038952,
     "end_time": "2023-12-19T22:08:15.296872",
     "exception": false,
     "start_time": "2023-12-19T22:08:15.257920",
     "status": "completed"
    },
    "tags": []
   },
   "outputs": [],
   "source": [
    "Train_Data = pd.concat([Train_Data,dd],axis=0,ignore_index=True)\n",
    "Train_Data"
   ]
  },
  {
   "cell_type": "code",
   "execution_count": 60,
   "id": "0ae23b94",
   "metadata": {
    "execution": {
     "iopub.execute_input": "2023-12-19T22:08:15.346245Z",
     "iopub.status.busy": "2023-12-19T22:08:15.345927Z",
     "iopub.status.idle": "2023-12-19T22:08:15.689915Z",
     "shell.execute_reply": "2023-12-19T22:08:15.689042Z"
    },
    "papermill": {
     "duration": 0.370895,
     "end_time": "2023-12-19T22:08:15.692634",
     "exception": false,
     "start_time": "2023-12-19T22:08:15.321739",
     "status": "completed"
    },
    "tags": []
   },
   "outputs": [],
   "source": [
    "Train_Data.drop_duplicates(inplace=True,ignore_index=True)"
   ]
  },
  {
   "cell_type": "code",
   "execution_count": null,
   "id": "e48d6e9b",
   "metadata": {
    "execution": {
     "iopub.execute_input": "2023-12-19T22:08:15.748124Z",
     "iopub.status.busy": "2023-12-19T22:08:15.747265Z",
     "iopub.status.idle": "2023-12-19T22:08:15.759458Z",
     "shell.execute_reply": "2023-12-19T22:08:15.758436Z"
    },
    "papermill": {
     "duration": 0.041545,
     "end_time": "2023-12-19T22:08:15.761706",
     "exception": false,
     "start_time": "2023-12-19T22:08:15.720161",
     "status": "completed"
    },
    "tags": []
   },
   "outputs": [],
   "source": [
    "Train_Data"
   ]
  },
  {
   "cell_type": "code",
   "execution_count": null,
   "id": "6602dd10",
   "metadata": {
    "execution": {
     "iopub.execute_input": "2023-12-19T22:08:15.813687Z",
     "iopub.status.busy": "2023-12-19T22:08:15.812797Z",
     "iopub.status.idle": "2023-12-19T22:08:15.821444Z",
     "shell.execute_reply": "2023-12-19T22:08:15.820491Z"
    },
    "papermill": {
     "duration": 0.03675,
     "end_time": "2023-12-19T22:08:15.823495",
     "exception": false,
     "start_time": "2023-12-19T22:08:15.786745",
     "status": "completed"
    },
    "tags": []
   },
   "outputs": [],
   "source": [
    "Train_Data['generated'].value_counts()"
   ]
  },
  {
   "cell_type": "code",
   "execution_count": null,
   "id": "4bd83acd",
   "metadata": {
    "execution": {
     "iopub.execute_input": "2023-12-19T22:08:15.872981Z",
     "iopub.status.busy": "2023-12-19T22:08:15.872127Z",
     "iopub.status.idle": "2023-12-19T22:08:15.986744Z",
     "shell.execute_reply": "2023-12-19T22:08:15.985657Z"
    },
    "papermill": {
     "duration": 0.141531,
     "end_time": "2023-12-19T22:08:15.989221",
     "exception": false,
     "start_time": "2023-12-19T22:08:15.847690",
     "status": "completed"
    },
    "tags": []
   },
   "outputs": [],
   "source": [
    "Train_Data.generated.value_counts().plot(kind='pie',autopct=\"%.1f%%\")\n",
    "plt.title(\"Target Column Distributions\")\n",
    "plt.show()"
   ]
  },
  {
   "cell_type": "code",
   "execution_count": null,
   "id": "4afc6d00",
   "metadata": {
    "execution": {
     "iopub.execute_input": "2023-12-19T22:08:16.040654Z",
     "iopub.status.busy": "2023-12-19T22:08:16.040032Z",
     "iopub.status.idle": "2023-12-19T22:08:16.223423Z",
     "shell.execute_reply": "2023-12-19T22:08:16.222460Z"
    },
    "papermill": {
     "duration": 0.210986,
     "end_time": "2023-12-19T22:08:16.225671",
     "exception": false,
     "start_time": "2023-12-19T22:08:16.014685",
     "status": "completed"
    },
    "tags": []
   },
   "outputs": [],
   "source": [
    "sns.countplot(x=Train_Data['generated'])\n",
    "plt.show"
   ]
  },
  {
   "cell_type": "markdown",
   "id": "86eb3d4e",
   "metadata": {
    "papermill": {
     "duration": 0.025018,
     "end_time": "2023-12-19T22:08:16.274992",
     "exception": false,
     "start_time": "2023-12-19T22:08:16.249974",
     "status": "completed"
    },
    "tags": []
   },
   "source": [
    "# Balancing the dataset"
   ]
  },
  {
   "cell_type": "code",
   "execution_count": 65,
   "id": "c84619e9",
   "metadata": {
    "execution": {
     "iopub.execute_input": "2023-12-19T22:08:16.330191Z",
     "iopub.status.busy": "2023-12-19T22:08:16.329824Z",
     "iopub.status.idle": "2023-12-19T22:08:16.336960Z",
     "shell.execute_reply": "2023-12-19T22:08:16.335899Z"
    },
    "papermill": {
     "duration": 0.037791,
     "end_time": "2023-12-19T22:08:16.339145",
     "exception": false,
     "start_time": "2023-12-19T22:08:16.301354",
     "status": "completed"
    },
    "tags": []
   },
   "outputs": [],
   "source": [
    "# function to balance label_counts\n",
    "\n",
    "def balance_labels(df, label_column='generated'):\n",
    "    label_counts=df[label_column].value_counts()\n",
    "    max_count=label_counts.max()\n",
    "    \n",
    "    balanced_df=pd.DataFrame()\n",
    "    \n",
    "    for label, count in label_counts.items():\n",
    "        label_subset = df[df[label_column]==label]\n",
    "        oversampled_subset= label_subset.sample(n=(max_count-count), replace=True, random_state=42)\n",
    "        balanced_df = pd.concat([balanced_df, label_subset, oversampled_subset], ignore_index=True)\n",
    "        \n",
    "    return balanced_df\n"
   ]
  },
  {
   "cell_type": "code",
   "execution_count": 66,
   "id": "5ef25ea2",
   "metadata": {
    "execution": {
     "iopub.execute_input": "2023-12-19T22:08:16.394344Z",
     "iopub.status.busy": "2023-12-19T22:08:16.393555Z",
     "iopub.status.idle": "2023-12-19T22:08:16.416423Z",
     "shell.execute_reply": "2023-12-19T22:08:16.415525Z"
    },
    "papermill": {
     "duration": 0.052879,
     "end_time": "2023-12-19T22:08:16.419045",
     "exception": false,
     "start_time": "2023-12-19T22:08:16.366166",
     "status": "completed"
    },
    "tags": []
   },
   "outputs": [],
   "source": [
    "# Balance labels in the dataframe\n",
    "Train_Data=balance_labels(Train_Data)"
   ]
  },
  {
   "cell_type": "code",
   "execution_count": null,
   "id": "50d29357",
   "metadata": {
    "papermill": {
     "duration": 0.026367,
     "end_time": "2023-12-19T22:08:16.473384",
     "exception": false,
     "start_time": "2023-12-19T22:08:16.447017",
     "status": "completed"
    },
    "tags": []
   },
   "outputs": [],
   "source": []
  },
  {
   "cell_type": "code",
   "execution_count": null,
   "id": "4ddd9413",
   "metadata": {
    "execution": {
     "iopub.execute_input": "2023-12-19T22:08:16.527494Z",
     "iopub.status.busy": "2023-12-19T22:08:16.526714Z",
     "iopub.status.idle": "2023-12-19T22:08:16.660109Z",
     "shell.execute_reply": "2023-12-19T22:08:16.658793Z"
    },
    "papermill": {
     "duration": 0.164146,
     "end_time": "2023-12-19T22:08:16.664018",
     "exception": false,
     "start_time": "2023-12-19T22:08:16.499872",
     "status": "completed"
    },
    "tags": []
   },
   "outputs": [],
   "source": [
    "Train_Data.generated.value_counts().plot(kind='pie',autopct=\"%.1f%%\")\n",
    "plt.title(\"Target Column Distributions\")\n",
    "plt.show()"
   ]
  },
  {
   "cell_type": "markdown",
   "id": "bb2a81dc",
   "metadata": {
    "papermill": {
     "duration": 0.032605,
     "end_time": "2023-12-19T22:08:16.757167",
     "exception": false,
     "start_time": "2023-12-19T22:08:16.724562",
     "status": "completed"
    },
    "tags": []
   },
   "source": [
    "# Model Building"
   ]
  },
  {
   "cell_type": "markdown",
   "id": "05d2ec8c",
   "metadata": {
    "papermill": {
     "duration": 0.025049,
     "end_time": "2023-12-19T22:08:16.808225",
     "exception": false,
     "start_time": "2023-12-19T22:08:16.783176",
     "status": "completed"
    },
    "tags": []
   },
   "source": [
    "### first we would be segregating the training dataset we have into train and test datasets"
   ]
  },
  {
   "cell_type": "code",
   "execution_count": null,
   "id": "295cf741",
   "metadata": {
    "execution": {
     "iopub.execute_input": "2023-12-19T22:08:16.859370Z",
     "iopub.status.busy": "2023-12-19T22:08:16.858961Z",
     "iopub.status.idle": "2023-12-19T22:08:16.874538Z",
     "shell.execute_reply": "2023-12-19T22:08:16.873409Z"
    },
    "papermill": {
     "duration": 0.044379,
     "end_time": "2023-12-19T22:08:16.876845",
     "exception": false,
     "start_time": "2023-12-19T22:08:16.832466",
     "status": "completed"
    },
    "tags": []
   },
   "outputs": [],
   "source": [
    "x_train,x_test,y_train,y_test=train_test_split(Train_Data.text,Train_Data.generated,test_size=0.009,shuffle=True)\n",
    "print(x_train.shape)\n",
    "print(x_test.shape)\n",
    "print(y_train.shape)\n",
    "print(y_test.shape)"
   ]
  },
  {
   "cell_type": "code",
   "execution_count": null,
   "id": "8b7f1241",
   "metadata": {
    "execution": {
     "iopub.execute_input": "2023-12-19T22:08:16.928179Z",
     "iopub.status.busy": "2023-12-19T22:08:16.927829Z",
     "iopub.status.idle": "2023-12-19T22:08:16.935193Z",
     "shell.execute_reply": "2023-12-19T22:08:16.934271Z"
    },
    "papermill": {
     "duration": 0.035769,
     "end_time": "2023-12-19T22:08:16.937546",
     "exception": false,
     "start_time": "2023-12-19T22:08:16.901777",
     "status": "completed"
    },
    "tags": []
   },
   "outputs": [],
   "source": [
    "x_train"
   ]
  },
  {
   "cell_type": "markdown",
   "id": "af9deaf7",
   "metadata": {
    "papermill": {
     "duration": 0.027375,
     "end_time": "2023-12-19T22:08:16.989312",
     "exception": false,
     "start_time": "2023-12-19T22:08:16.961937",
     "status": "completed"
    },
    "tags": []
   },
   "source": [
    "## Using bert model for predictions"
   ]
  },
  {
   "cell_type": "code",
   "execution_count": 76,
   "id": "c9bf93da",
   "metadata": {
    "execution": {
     "iopub.execute_input": "2023-12-19T22:08:17.042680Z",
     "iopub.status.busy": "2023-12-19T22:08:17.042289Z",
     "iopub.status.idle": "2023-12-19T22:08:17.046929Z",
     "shell.execute_reply": "2023-12-19T22:08:17.045952Z"
    },
    "papermill": {
     "duration": 0.034978,
     "end_time": "2023-12-19T22:08:17.049074",
     "exception": false,
     "start_time": "2023-12-19T22:08:17.014096",
     "status": "completed"
    },
    "tags": []
   },
   "outputs": [],
   "source": [
    "model_path =\"https://www.kaggle.com/models/tensorflow/bert/TensorFlow2/bert-en-uncased-l-12-h-768-a-12/2\"\n",
    "preprocess_path = \"https://www.kaggle.com/models/tensorflow/bert/TensorFlow2/en-uncased-preprocess/3/\""
   ]
  },
  {
   "cell_type": "code",
   "execution_count": 77,
   "id": "a4ba1ae2",
   "metadata": {
    "execution": {
     "iopub.execute_input": "2023-12-19T22:08:17.105147Z",
     "iopub.status.busy": "2023-12-19T22:08:17.104041Z",
     "iopub.status.idle": "2023-12-19T22:08:25.721946Z",
     "shell.execute_reply": "2023-12-19T22:08:25.721146Z"
    },
    "papermill": {
     "duration": 8.647977,
     "end_time": "2023-12-19T22:08:25.724288",
     "exception": false,
     "start_time": "2023-12-19T22:08:17.076311",
     "status": "completed"
    },
    "tags": []
   },
   "outputs": [],
   "source": [
    "text_input = tf.keras.layers.Input(shape=(), dtype=tf.string)\n",
    "preprocessor = hub.KerasLayer(preprocess_path)\n",
    "encoder_inputs  = preprocessor(text_input) # this is basically the preprocessed text"
   ]
  },
  {
   "cell_type": "code",
   "execution_count": 78,
   "id": "95a56169",
   "metadata": {
    "execution": {
     "iopub.execute_input": "2023-12-19T22:08:25.776916Z",
     "iopub.status.busy": "2023-12-19T22:08:25.776548Z",
     "iopub.status.idle": "2023-12-19T22:08:40.670210Z",
     "shell.execute_reply": "2023-12-19T22:08:40.669415Z"
    },
    "papermill": {
     "duration": 14.922876,
     "end_time": "2023-12-19T22:08:40.672791",
     "exception": false,
     "start_time": "2023-12-19T22:08:25.749915",
     "status": "completed"
    },
    "tags": []
   },
   "outputs": [],
   "source": [
    "## Use BERT Model\n",
    "encoder = hub.KerasLayer(model_path, trainable=True)\n",
    "outputs = encoder(encoder_inputs)\n",
    "pooled_output = outputs['pooled_output'] # [batch_size, 512].\n",
    "sequence_output = outputs[\"sequence_output\"] # [batch_size, seq_length, 512]."
   ]
  },
  {
   "cell_type": "code",
   "execution_count": 79,
   "id": "35086ee1",
   "metadata": {
    "execution": {
     "iopub.execute_input": "2023-12-19T22:08:40.726554Z",
     "iopub.status.busy": "2023-12-19T22:08:40.726163Z",
     "iopub.status.idle": "2023-12-19T22:08:40.855570Z",
     "shell.execute_reply": "2023-12-19T22:08:40.854627Z"
    },
    "papermill": {
     "duration": 0.165424,
     "end_time": "2023-12-19T22:08:40.864992",
     "exception": false,
     "start_time": "2023-12-19T22:08:40.699568",
     "status": "completed"
    },
    "tags": []
   },
   "outputs": [
    {
     "name": "stdout",
     "output_type": "stream",
     "text": [
      "Model: \"model\"\n",
      "__________________________________________________________________________________________________\n",
      " Layer (type)                   Output Shape         Param #     Connected to                     \n",
      "==================================================================================================\n",
      " input_3 (InputLayer)           [(None,)]            0           []                               \n",
      "                                                                                                  \n",
      " keras_layer (KerasLayer)       {'input_word_ids':   0           ['input_3[0][0]']                \n",
      "                                (None, 128),                                                      \n",
      "                                 'input_mask': (Non                                               \n",
      "                                e, 128),                                                          \n",
      "                                 'input_type_ids':                                                \n",
      "                                (None, 128)}                                                      \n",
      "                                                                                                  \n",
      " keras_layer_1 (KerasLayer)     {'pooled_output': (  109482241   ['keras_layer[0][0]',            \n",
      "                                None, 768),                       'keras_layer[0][1]',            \n",
      "                                 'default': (None,                'keras_layer[0][2]']            \n",
      "                                768),                                                             \n",
      "                                 'sequence_output':                                               \n",
      "                                 (None, 128, 768),                                                \n",
      "                                 'encoder_outputs':                                               \n",
      "                                 [(None, 128, 768),                                               \n",
      "                                 (None, 128, 768),                                                \n",
      "                                 (None, 128, 768),                                                \n",
      "                                 (None, 128, 768),                                                \n",
      "                                 (None, 128, 768),                                                \n",
      "                                 (None, 128, 768),                                                \n",
      "                                 (None, 128, 768),                                                \n",
      "                                 (None, 128, 768),                                                \n",
      "                                 (None, 128, 768),                                                \n",
      "                                 (None, 128, 768),                                                \n",
      "                                 (None, 128, 768),                                                \n",
      "                                 (None, 128, 768)]}                                               \n",
      "                                                                                                  \n",
      " dropout1 (Dropout)             (None, 768)          0           ['keras_layer_1[0][13]']         \n",
      "                                                                                                  \n",
      " dense (Dense)                  (None, 64)           49216       ['dropout1[0][0]']               \n",
      "                                                                                                  \n",
      " dropout2 (Dropout)             (None, 64)           0           ['dense[0][0]']                  \n",
      "                                                                                                  \n",
      " output (Dense)                 (None, 1)            65          ['dropout2[0][0]']               \n",
      "                                                                                                  \n",
      "==================================================================================================\n",
      "Total params: 109,531,522\n",
      "Trainable params: 109,531,521\n",
      "Non-trainable params: 1\n",
      "__________________________________________________________________________________________________\n"
     ]
    }
   ],
   "source": [
    "dropout = tf.keras.layers.Dropout(0.51 , name=\"dropout1\")(pooled_output)\n",
    "dense_2 = tf.keras.layers.Dense(64 , activation='relu')(dropout)\n",
    "dropout = tf.keras.layers.Dropout(0.3 , name=\"dropout2\")(dense_2)\n",
    "\n",
    "dense_out = tf.keras.layers.Dense(1 , activation='sigmoid', name='output')(dropout)\n",
    "\n",
    "model = tf.keras.Model(inputs=text_input, outputs=dense_out)\n",
    "model.summary()"
   ]
  },
  {
   "cell_type": "code",
   "execution_count": 80,
   "id": "9a8aaff5",
   "metadata": {
    "execution": {
     "iopub.execute_input": "2023-12-19T22:08:40.923465Z",
     "iopub.status.busy": "2023-12-19T22:08:40.923085Z",
     "iopub.status.idle": "2023-12-19T22:08:40.927347Z",
     "shell.execute_reply": "2023-12-19T22:08:40.926420Z"
    },
    "papermill": {
     "duration": 0.035811,
     "end_time": "2023-12-19T22:08:40.929494",
     "exception": false,
     "start_time": "2023-12-19T22:08:40.893683",
     "status": "completed"
    },
    "tags": []
   },
   "outputs": [],
   "source": [
    "#model.compile(optimizer='adam', loss='binary_crossentropy',metrics=[\"accuracy\"]) # using adam gave better results as compared to rmse\n",
    "#history = model.fit(x_train, y_train , batch_size=512 , epochs=10 , validation_data=(x_test, y_test)) \n",
    "# using smaller batch size gave better predictions as it improved accuracy but the submission accuracy reduced"
   ]
  },
  {
   "cell_type": "code",
   "execution_count": null,
   "id": "09494eb8",
   "metadata": {
    "execution": {
     "iopub.execute_input": "2023-12-19T22:08:40.986873Z",
     "iopub.status.busy": "2023-12-19T22:08:40.986172Z",
     "iopub.status.idle": "2023-12-19T22:50:58.636655Z",
     "shell.execute_reply": "2023-12-19T22:50:58.635728Z"
    },
    "papermill": {
     "duration": 2537.682223,
     "end_time": "2023-12-19T22:50:58.639064",
     "exception": false,
     "start_time": "2023-12-19T22:08:40.956841",
     "status": "completed"
    },
    "tags": []
   },
   "outputs": [
    {
     "name": "stdout",
     "output_type": "stream",
     "text": [
      "   43/10222 [..............................] - ETA: 6:25:24 - loss: 0.9980 - acc: 0.5058"
     ]
    }
   ],
   "source": [
    "model.compile(optimizer=tf.keras.optimizers.Adam(learning_rate=1e-6),\n",
    "              loss='binary_crossentropy',\n",
    "              metrics=[\"acc\"])\n",
    "\n",
    "checkpoint_filepath = 'checkpoint.hdf5'\n",
    "metric = 'val_accuracy'\n",
    "callback_list = tf.keras.callbacks.ModelCheckpoint(filepath=checkpoint_filepath, monitor=metric,\n",
    "                    verbose=2, save_best_only=True, mode='max')\n",
    "history = model.fit(x_train, y_train , batch_size=8, callbacks=[callback_list],epochs=1 , validation_data=(x_test, y_test))\n",
    "# model.load_weights(checkpoint_filepath)\n",
    "model.save(\"model-bert\")"
   ]
  },
  {
   "cell_type": "code",
   "execution_count": null,
   "id": "0babed20",
   "metadata": {
    "execution": {
     "iopub.execute_input": "2023-12-19T22:51:00.460608Z",
     "iopub.status.busy": "2023-12-19T22:51:00.460227Z",
     "iopub.status.idle": "2023-12-19T23:06:32.820874Z",
     "shell.execute_reply": "2023-12-19T23:06:32.819739Z"
    },
    "papermill": {
     "duration": 933.303423,
     "end_time": "2023-12-19T23:06:32.822969",
     "exception": false,
     "start_time": "2023-12-19T22:50:59.519546",
     "status": "completed"
    },
    "tags": []
   },
   "outputs": [],
   "source": [
    "loss , acc = model.evaluate(x_train, y_train)\n",
    "print(\"Accuracy on Train data:\",acc)\n",
    "loss , acc = model.evaluate(x_test, y_test)\n",
    "print(\"Accuracy on Test data:\",acc)"
   ]
  },
  {
   "cell_type": "code",
   "execution_count": null,
   "id": "922343fa",
   "metadata": {
    "execution": {
     "iopub.execute_input": "2023-12-19T23:06:35.021494Z",
     "iopub.status.busy": "2023-12-19T23:06:35.020623Z",
     "iopub.status.idle": "2023-12-19T23:06:35.030735Z",
     "shell.execute_reply": "2023-12-19T23:06:35.029752Z"
    },
    "papermill": {
     "duration": 1.101516,
     "end_time": "2023-12-19T23:06:35.032892",
     "exception": false,
     "start_time": "2023-12-19T23:06:33.931376",
     "status": "completed"
    },
    "tags": []
   },
   "outputs": [],
   "source": [
    "test_essay"
   ]
  },
  {
   "cell_type": "markdown",
   "id": "e34fe203",
   "metadata": {
    "papermill": {
     "duration": 1.077241,
     "end_time": "2023-12-19T23:06:37.260787",
     "exception": false,
     "start_time": "2023-12-19T23:06:36.183546",
     "status": "completed"
    },
    "tags": []
   },
   "source": [
    "# Predictions"
   ]
  },
  {
   "cell_type": "code",
   "execution_count": null,
   "id": "b3e2ec6f",
   "metadata": {
    "execution": {
     "iopub.execute_input": "2023-12-19T23:06:39.559675Z",
     "iopub.status.busy": "2023-12-19T23:06:39.558905Z",
     "iopub.status.idle": "2023-12-19T23:06:40.508654Z",
     "shell.execute_reply": "2023-12-19T23:06:40.507534Z"
    },
    "papermill": {
     "duration": 2.103352,
     "end_time": "2023-12-19T23:06:40.511147",
     "exception": false,
     "start_time": "2023-12-19T23:06:38.407795",
     "status": "completed"
    },
    "tags": []
   },
   "outputs": [],
   "source": [
    "y_pred = model.predict(test_essay['text'])"
   ]
  },
  {
   "cell_type": "code",
   "execution_count": null,
   "id": "954087f2",
   "metadata": {
    "execution": {
     "iopub.execute_input": "2023-12-19T23:06:42.712646Z",
     "iopub.status.busy": "2023-12-19T23:06:42.712198Z",
     "iopub.status.idle": "2023-12-19T23:06:42.719395Z",
     "shell.execute_reply": "2023-12-19T23:06:42.718285Z"
    },
    "papermill": {
     "duration": 1.130799,
     "end_time": "2023-12-19T23:06:42.721426",
     "exception": false,
     "start_time": "2023-12-19T23:06:41.590627",
     "status": "completed"
    },
    "tags": []
   },
   "outputs": [],
   "source": [
    "y_pred"
   ]
  },
  {
   "cell_type": "code",
   "execution_count": null,
   "id": "fb6dd4c0",
   "metadata": {
    "execution": {
     "iopub.execute_input": "2023-12-19T23:06:45.016689Z",
     "iopub.status.busy": "2023-12-19T23:06:45.015181Z",
     "iopub.status.idle": "2023-12-19T23:06:45.022527Z",
     "shell.execute_reply": "2023-12-19T23:06:45.021656Z"
    },
    "papermill": {
     "duration": 1.104668,
     "end_time": "2023-12-19T23:06:45.024407",
     "exception": false,
     "start_time": "2023-12-19T23:06:43.919739",
     "status": "completed"
    },
    "tags": []
   },
   "outputs": [],
   "source": [
    "y_pred[:,0]"
   ]
  },
  {
   "cell_type": "markdown",
   "id": "8f336961",
   "metadata": {
    "papermill": {
     "duration": 1.135921,
     "end_time": "2023-12-19T23:06:47.329308",
     "exception": false,
     "start_time": "2023-12-19T23:06:46.193387",
     "status": "completed"
    },
    "tags": []
   },
   "source": [
    "# Saving the output in a CSV file"
   ]
  },
  {
   "cell_type": "code",
   "execution_count": 53,
   "id": "143dd88e",
   "metadata": {
    "execution": {
     "iopub.execute_input": "2023-12-19T23:06:49.496883Z",
     "iopub.status.busy": "2023-12-19T23:06:49.496009Z",
     "iopub.status.idle": "2023-12-19T23:06:49.509799Z",
     "shell.execute_reply": "2023-12-19T23:06:49.509000Z"
    },
    "papermill": {
     "duration": 1.096522,
     "end_time": "2023-12-19T23:06:49.511884",
     "exception": false,
     "start_time": "2023-12-19T23:06:48.415362",
     "status": "completed"
    },
    "tags": []
   },
   "outputs": [],
   "source": [
    "# Assuming 'test_ids' are the IDs of test samples, and 'predictions' are the predicted values\n",
    "# converting to the format required for submissions\n",
    "submission = pd.DataFrame({'id': test_essay['id'] , 'generated': y_pred[:,0] })\n",
    "submission.to_csv('submission.csv', index=False)  # Save the CSV file"
   ]
  },
  {
   "cell_type": "code",
   "execution_count": null,
   "id": "8ebf8eae",
   "metadata": {
    "execution": {
     "iopub.execute_input": "2023-12-19T23:06:51.756436Z",
     "iopub.status.busy": "2023-12-19T23:06:51.755674Z",
     "iopub.status.idle": "2023-12-19T23:06:51.766449Z",
     "shell.execute_reply": "2023-12-19T23:06:51.765568Z"
    },
    "papermill": {
     "duration": 1.105301,
     "end_time": "2023-12-19T23:06:51.768708",
     "exception": false,
     "start_time": "2023-12-19T23:06:50.663407",
     "status": "completed"
    },
    "tags": []
   },
   "outputs": [],
   "source": [
    "# pd.read_csv(\"/kaggle/working/submission.csv\")"
   ]
  }
 ],
 "metadata": {
  "kaggle": {
   "accelerator": "nvidiaTeslaT4",
   "dataSources": [
    {
     "databundleVersionId": 6888007,
     "sourceId": 61542,
     "sourceType": "competition"
    },
    {
     "datasetId": 3937441,
     "sourceId": 6868189,
     "sourceType": "datasetVersion"
    },
    {
     "datasetId": 3973543,
     "sourceId": 6920046,
     "sourceType": "datasetVersion"
    },
    {
     "datasetId": 4166484,
     "sourceId": 7202521,
     "sourceType": "datasetVersion"
    },
    {
     "datasetId": 4166523,
     "sourceId": 7202572,
     "sourceType": "datasetVersion"
    },
    {
     "datasetId": 4166560,
     "sourceId": 7202633,
     "sourceType": "datasetVersion"
    },
    {
     "datasetId": 4184739,
     "sourceId": 7228308,
     "sourceType": "datasetVersion"
    },
    {
     "modelInstanceId": 1910,
     "sourceId": 2644,
     "sourceType": "modelInstanceVersion"
    },
    {
     "modelInstanceId": 2180,
     "sourceId": 2938,
     "sourceType": "modelInstanceVersion"
    }
   ],
   "dockerImageVersionId": 30627,
   "isGpuEnabled": true,
   "isInternetEnabled": false,
   "language": "python",
   "sourceType": "notebook"
  },
  "kernelspec": {
   "display_name": "aisec",
   "language": "python",
   "name": "python3"
  },
  "language_info": {
   "codemirror_mode": {
    "name": "ipython",
    "version": 3
   },
   "file_extension": ".py",
   "mimetype": "text/x-python",
   "name": "python",
   "nbconvert_exporter": "python",
   "pygments_lexer": "ipython3",
   "version": "3.8.20"
  },
  "papermill": {
   "default_parameters": {},
   "duration": 3556.448044,
   "end_time": "2023-12-19T23:06:56.856636",
   "environment_variables": {},
   "exception": null,
   "input_path": "__notebook__.ipynb",
   "output_path": "__notebook__.ipynb",
   "parameters": {},
   "start_time": "2023-12-19T22:07:40.408592",
   "version": "2.4.0"
  }
 },
 "nbformat": 4,
 "nbformat_minor": 5
}
